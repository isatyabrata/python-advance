{
 "cells": [
  {
   "attachments": {},
   "cell_type": "markdown",
   "metadata": {},
   "source": [
    "### Tuples are ordered, imutable and allows duplicates"
   ]
  },
  {
   "cell_type": "code",
   "execution_count": 4,
   "metadata": {},
   "outputs": [
    {
     "name": "stdout",
     "output_type": "stream",
     "text": [
      "('Mad Max', 28, 'cola') ('Mad Max', 28, 'cola') ('hello',) ('Mad Max', 28, 'cola')\n"
     ]
    }
   ],
   "source": [
    "tup_1 = (\"Mad Max\", 28, \"cola\")\n",
    "tup_2 = \"Mad Max\", 28, \"cola\"\n",
    "tup_3 = \"hello\",\n",
    "tup_4 = tuple([\"Mad Max\", 28, \"cola\"])\n",
    "print(tup_1, tup_2, tup_3, tup_4)"
   ]
  },
  {
   "cell_type": "code",
   "execution_count": 8,
   "metadata": {},
   "outputs": [
    {
     "data": {
      "text/plain": [
       "('Mad Max', 'cola')"
      ]
     },
     "execution_count": 8,
     "metadata": {},
     "output_type": "execute_result"
    }
   ],
   "source": [
    "tup_1[0], tup_1[-1]"
   ]
  },
  {
   "cell_type": "code",
   "execution_count": 12,
   "metadata": {},
   "outputs": [
    {
     "ename": "IndexError",
     "evalue": "tuple index out of range",
     "output_type": "error",
     "traceback": [
      "\u001b[1;31m---------------------------------------------------------------------------\u001b[0m",
      "\u001b[1;31mIndexError\u001b[0m                                Traceback (most recent call last)",
      "Cell \u001b[1;32mIn[12], line 2\u001b[0m\n\u001b[0;32m      1\u001b[0m \u001b[39m# out of index\u001b[39;00m\n\u001b[1;32m----> 2\u001b[0m tup_1[\u001b[39m5\u001b[39;49m]\n",
      "\u001b[1;31mIndexError\u001b[0m: tuple index out of range"
     ]
    }
   ],
   "source": [
    "# out of index\n",
    "tup_1[5]"
   ]
  },
  {
   "cell_type": "code",
   "execution_count": 13,
   "metadata": {},
   "outputs": [
    {
     "ename": "TypeError",
     "evalue": "'tuple' object does not support item assignment",
     "output_type": "error",
     "traceback": [
      "\u001b[1;31m---------------------------------------------------------------------------\u001b[0m",
      "\u001b[1;31mTypeError\u001b[0m                                 Traceback (most recent call last)",
      "Cell \u001b[1;32mIn[13], line 2\u001b[0m\n\u001b[0;32m      1\u001b[0m \u001b[39m# changing of tuples value is not possible\u001b[39;00m\n\u001b[1;32m----> 2\u001b[0m tup_1[\u001b[39m0\u001b[39;49m] \u001b[39m=\u001b[39m \u001b[39m\"\u001b[39m\u001b[39mNomad\u001b[39m\u001b[39m\"\u001b[39m\n",
      "\u001b[1;31mTypeError\u001b[0m: 'tuple' object does not support item assignment"
     ]
    }
   ],
   "source": [
    "# changing of tuples value is not possible as a tuple is imutable\n",
    "tup_1[0] = \"Nomad\""
   ]
  },
  {
   "cell_type": "code",
   "execution_count": 14,
   "metadata": {},
   "outputs": [
    {
     "name": "stdout",
     "output_type": "stream",
     "text": [
      "Mad Max\n",
      "28\n",
      "cola\n"
     ]
    }
   ],
   "source": [
    "# printing each element of tuple\n",
    "\n",
    "for i in tup_1:\n",
    "    print(i)"
   ]
  },
  {
   "cell_type": "code",
   "execution_count": 17,
   "metadata": {},
   "outputs": [
    {
     "name": "stdout",
     "output_type": "stream",
     "text": [
      "True\n"
     ]
    }
   ],
   "source": [
    "# check if a item is present in a tuple\n",
    "if \"Mad Max\" in tup_1:\n",
    "    print(True)\n",
    "else:\n",
    "    print(False)"
   ]
  },
  {
   "cell_type": "code",
   "execution_count": 18,
   "metadata": {},
   "outputs": [
    {
     "name": "stdout",
     "output_type": "stream",
     "text": [
      "False\n"
     ]
    }
   ],
   "source": [
    "if \"Mad\" in tup_1:\n",
    "    print(True)\n",
    "else:\n",
    "    print(False)"
   ]
  },
  {
   "cell_type": "code",
   "execution_count": 27,
   "metadata": {},
   "outputs": [
    {
     "name": "stdout",
     "output_type": "stream",
     "text": [
      "3\n",
      "1\n",
      "2\n",
      "['Mad Max', 28, 'cola']\n",
      "('Mad Max', 28, 'cola')\n"
     ]
    }
   ],
   "source": [
    "# lenght, count a specific value, index of specific value\n",
    "print(len(tup_1))\n",
    "print(tup_1.count(28))\n",
    "print(tup_1.index(\"cola\"))\n",
    "print(list(tup_1))\n",
    "print(tuple(list(tup_1)))"
   ]
  },
  {
   "cell_type": "code",
   "execution_count": 33,
   "metadata": {},
   "outputs": [
    {
     "name": "stdout",
     "output_type": "stream",
     "text": [
      "(3, 4, 5)\n",
      "(1, 2, 3, 4, 5)\n",
      "(1, 3, 5, 7, 9)\n",
      "(9, 8, 7, 6, 5, 4, 3, 2, 1)\n"
     ]
    }
   ],
   "source": [
    "# slicing\n",
    "tup = (1, 2, 3, 4, 5, 6, 7, 8, 9)\n",
    "print(tup[2:5])\n",
    "print(tup[:5]) # starts from beigninh i.e 0 index until 4th index excluding 5th index\n",
    "print(tup[::2]) # starts from o till end but increments with step size 2\n",
    "print(tup[::-1]) # just reverses the tuple"
   ]
  },
  {
   "cell_type": "code",
   "execution_count": 38,
   "metadata": {},
   "outputs": [
    {
     "name": "stdout",
     "output_type": "stream",
     "text": [
      "Malcom , 19 , California\n"
     ]
    }
   ],
   "source": [
    "# Unpack tuple\n",
    "tup_4 = ('Malcom', 19, 'California')\n",
    "name, age, city = tup_4\n",
    "print(name, \",\",age, \",\",city)"
   ]
  },
  {
   "cell_type": "code",
   "execution_count": 40,
   "metadata": {},
   "outputs": [
    {
     "name": "stdout",
     "output_type": "stream",
     "text": [
      "0\n",
      "5\n",
      "[1, 2, 3, 4]\n"
     ]
    }
   ],
   "source": [
    "# can unpack multiple tuple item to one variable\n",
    "tup_5 = [0, 1, 2, 3, 4, 5]\n",
    "i1, *i2, i3 = tup_5\n",
    "print(i1) # assign first item\n",
    "print(i3) # assigns last item\n",
    "print(i2) # rest all items are converted into lists"
   ]
  },
  {
   "cell_type": "code",
   "execution_count": null,
   "metadata": {},
   "outputs": [],
   "source": []
  }
 ],
 "metadata": {
  "kernelspec": {
   "display_name": ".venv",
   "language": "python",
   "name": "python3"
  },
  "language_info": {
   "codemirror_mode": {
    "name": "ipython",
    "version": 3
   },
   "file_extension": ".py",
   "mimetype": "text/x-python",
   "name": "python",
   "nbconvert_exporter": "python",
   "pygments_lexer": "ipython3",
   "version": "3.8.8"
  },
  "orig_nbformat": 4,
  "vscode": {
   "interpreter": {
    "hash": "2f6751542b57494edcf3579ea88d55abe9cee209445998b04780898c2365d1aa"
   }
  }
 },
 "nbformat": 4,
 "nbformat_minor": 2
}
