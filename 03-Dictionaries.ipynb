{
 "cells": [
  {
   "attachments": {},
   "cell_type": "markdown",
   "metadata": {},
   "source": [
    "### Dictionaries are mutable and unordered key value pairs. You change a value of a key but can't change key of a value"
   ]
  },
  {
   "cell_type": "code",
   "execution_count": 17,
   "metadata": {},
   "outputs": [
    {
     "name": "stdout",
     "output_type": "stream",
     "text": [
      "{'name': 'satya', 'age': 35, 'city': 'BBSR'}\n"
     ]
    }
   ],
   "source": [
    "my_dict = {\"name\" : \"satya\", \"age\" : 35, \"city\" : \"BBSR\"}\n",
    "print(my_dict)"
   ]
  },
  {
   "cell_type": "code",
   "execution_count": 3,
   "metadata": {},
   "outputs": [
    {
     "name": "stdout",
     "output_type": "stream",
     "text": [
      "{'name': 'satya', 'age': 35, 'city': 'BBSR'}\n"
     ]
    }
   ],
   "source": [
    "# don't need to use quotes\n",
    "my_dict2 = dict(name=\"satya\", age=35, city=\"BBSR\")\n",
    "print(my_dict2)"
   ]
  },
  {
   "cell_type": "code",
   "execution_count": 6,
   "metadata": {},
   "outputs": [
    {
     "name": "stdout",
     "output_type": "stream",
     "text": [
      "satya\n"
     ]
    }
   ],
   "source": [
    "# find the value using key\n",
    "value = my_dict2[\"name\"]\n",
    "print(value)"
   ]
  },
  {
   "cell_type": "code",
   "execution_count": 8,
   "metadata": {},
   "outputs": [
    {
     "ename": "KeyError",
     "evalue": "'state'",
     "output_type": "error",
     "traceback": [
      "\u001b[1;31m---------------------------------------------------------------------------\u001b[0m",
      "\u001b[1;31mKeyError\u001b[0m                                  Traceback (most recent call last)",
      "Cell \u001b[1;32mIn[8], line 2\u001b[0m\n\u001b[0;32m      1\u001b[0m \u001b[39m# if something is not in dictionary, raises KeyError\u001b[39;00m\n\u001b[1;32m----> 2\u001b[0m my_dict2[\u001b[39m\"\u001b[39;49m\u001b[39mstate\u001b[39;49m\u001b[39m\"\u001b[39;49m]\n",
      "\u001b[1;31mKeyError\u001b[0m: 'state'"
     ]
    }
   ],
   "source": [
    "# if something is not in dictionary, raises KeyError\n",
    "my_dict2[\"state\"]"
   ]
  },
  {
   "cell_type": "code",
   "execution_count": 9,
   "metadata": {},
   "outputs": [
    {
     "name": "stdout",
     "output_type": "stream",
     "text": [
      "{'name': 'satya', 'age': 35, 'city': 'BBSR', 'email': 'satya@email.com'}\n"
     ]
    }
   ],
   "source": [
    "# to add a new key & value\n",
    "my_dict2[\"email\"] = \"satya@email.com\"\n",
    "print(my_dict2)"
   ]
  },
  {
   "cell_type": "code",
   "execution_count": 18,
   "metadata": {},
   "outputs": [
    {
     "name": "stdout",
     "output_type": "stream",
     "text": [
      "{'name': 'satya', 'age': 35, 'city': 'BBSR'}\n",
      "----------------------------------\n",
      "{'age': 35, 'city': 'BBSR'}\n",
      "{'city': 'BBSR'}\n",
      "----------------------------------\n",
      "{'name': 'satya', 'age': 35}\n"
     ]
    }
   ],
   "source": [
    "# delete and pop\n",
    "print(my_dict) # before deletion\n",
    "print(\"----------------------------------\")\n",
    "del my_dict[\"name\"] # method 1\n",
    "print(my_dict)\n",
    "my_dict.pop(\"age\") # method 2\n",
    "print(my_dict)\n",
    "print(\"----------------------------------\")\n",
    "# recreat my_dict\n",
    "my_dict = {\"name\" : \"satya\", \"age\" : 35, \"city\" : \"BBSR\"}\n",
    "my_dict.popitem() # removes the last item\n",
    "print(my_dict)"
   ]
  },
  {
   "cell_type": "code",
   "execution_count": 21,
   "metadata": {},
   "outputs": [
    {
     "name": "stdout",
     "output_type": "stream",
     "text": [
      "satya\n",
      "Key not found\n",
      "Key not found\n"
     ]
    }
   ],
   "source": [
    "# check for a key:\n",
    "if \"name\" in my_dict2:\n",
    "    print(my_dict2[\"name\"])\n",
    "\n",
    "# or\n",
    "\n",
    "if \"lastname\" in my_dict2:\n",
    "    print(my_dict2[\"lastname\"])\n",
    "else:\n",
    "    print(\"Key not found\")\n",
    "\n",
    "# or\n",
    "\n",
    "try:\n",
    "    print(my_dict2[\"lastname\"])\n",
    "except:\n",
    "    print(\"Key not found\")"
   ]
  },
  {
   "cell_type": "code",
   "execution_count": 27,
   "metadata": {},
   "outputs": [
    {
     "name": "stdout",
     "output_type": "stream",
     "text": [
      "name\n",
      "age\n",
      "city\n",
      "email\n",
      "-----------------------------\n",
      "name\n",
      "age\n",
      "city\n",
      "email\n",
      "-----------------------------\n",
      "satya\n",
      "35\n",
      "BBSR\n",
      "satya@email.com\n",
      "-----------------------------\n",
      "name satya\n",
      "age 35\n",
      "city BBSR\n",
      "email satya@email.com\n"
     ]
    }
   ],
   "source": [
    "# loop though dict\n",
    "for key in my_dict2: # print keys\n",
    "    print(key)\n",
    "\n",
    "# or\n",
    "print(\"-----------------------------\")\n",
    "\n",
    "for key in my_dict2.keys(): # print keys\n",
    "    print(key)\n",
    "\n",
    "# or\n",
    "print(\"-----------------------------\")\n",
    "\n",
    "for val in my_dict2.values(): # print values\n",
    "    print(val)\n",
    "\n",
    "# or\n",
    "print(\"-----------------------------\")\n",
    "\n",
    "for key, val in my_dict2.items(): # print key, value pair\n",
    "    print(key, val)"
   ]
  },
  {
   "cell_type": "code",
   "execution_count": 28,
   "metadata": {},
   "outputs": [
    {
     "name": "stdout",
     "output_type": "stream",
     "text": [
      "{'name': 'satya', 'age': 35, 'city': 'BBSR'}\n",
      "{'name': 'satya', 'age': 35, 'city': 'BBSR', 'email': 'satya@email.com'}\n",
      "{'name': 'satya', 'age': 35, 'city': 'BBSR', 'email': 'satya@email.com'}\n"
     ]
    }
   ],
   "source": [
    "# proper way to copy dict and make both dict independent\n",
    "my_dict3 = my_dict2.copy()\n",
    "my_dict4 = dict(my_dict2)\n",
    "my_dict2.popitem()\n",
    "\n",
    "print(my_dict2)\n",
    "print(my_dict3)\n",
    "print(my_dict4)"
   ]
  },
  {
   "cell_type": "code",
   "execution_count": 29,
   "metadata": {},
   "outputs": [
    {
     "name": "stdout",
     "output_type": "stream",
     "text": [
      "{'name': 'Mohan', 'age': 34, 'city': 'BBSR', 'email': 'xyz@xyz.com'}\n"
     ]
    }
   ],
   "source": [
    "# merge 2 dictionaries\n",
    "\n",
    "my_dict5 = {'name': 'satya', 'age': 35, 'city': 'BBSR'}\n",
    "my_dict6 = dict(name=\"Mohan\", age=34, email=\"xyz@xyz.com\")\n",
    "\n",
    "my_dict5.update(my_dict6)\n",
    "print(my_dict5)"
   ]
  },
  {
   "cell_type": "code",
   "execution_count": null,
   "metadata": {},
   "outputs": [],
   "source": []
  }
 ],
 "metadata": {
  "kernelspec": {
   "display_name": ".venv",
   "language": "python",
   "name": "python3"
  },
  "language_info": {
   "codemirror_mode": {
    "name": "ipython",
    "version": 3
   },
   "file_extension": ".py",
   "mimetype": "text/x-python",
   "name": "python",
   "nbconvert_exporter": "python",
   "pygments_lexer": "ipython3",
   "version": "3.8.8"
  },
  "orig_nbformat": 4,
  "vscode": {
   "interpreter": {
    "hash": "2f6751542b57494edcf3579ea88d55abe9cee209445998b04780898c2365d1aa"
   }
  }
 },
 "nbformat": 4,
 "nbformat_minor": 2
}
